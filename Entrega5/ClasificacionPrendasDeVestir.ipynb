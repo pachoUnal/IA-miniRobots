{
  "nbformat": 4,
  "nbformat_minor": 0,
  "metadata": {
    "colab": {
      "provenance": []
    },
    "kernelspec": {
      "name": "python3",
      "display_name": "Python 3"
    },
    "language_info": {
      "name": "python"
    }
  },
  "cells": [
    {
      "cell_type": "markdown",
      "source": [
        "# Clasificación de prendas de vestir\n",
        "\n",
        "* Francisco Josse Roja Rojas (frrojasr@unal.edu.co)\n",
        "* Yeira Liseth Rodríguez Rodríguez (yrodriguezro@unal.edu.co)\n",
        "\n",
        "A continuación se presenta el segundo ejercicio del capítulo 5 de la materia de Inteligencia Artificial y mini-robots"
      ],
      "metadata": {
        "id": "5VzVJp1SaYwJ"
      }
    },
    {
      "cell_type": "code",
      "execution_count": 16,
      "metadata": {
        "id": "Q3mr7GKuaUkI"
      },
      "outputs": [],
      "source": [
        "import tensorflow as tf\n",
        "from tensorflow.keras import layers, models\n",
        "import numpy as np\n",
        "import matplotlib.pyplot as plt\n",
        "from tensorflow.keras.utils import to_categorical\n",
        "from tensorflow.keras.preprocessing import image"
      ]
    },
    {
      "cell_type": "markdown",
      "source": [
        "#### 1. Cargar y preparar el dataset\n",
        "El conjunto Fashion MNIST contiene imágenes de 28x28 píxeles en escala de grises. Aquí las cargamos, normalizamos los valores de los pixeles y adaptamos las dimensiones para que sean compatibles con capas convolucionales (es decir, se añade un canal extra)."
      ],
      "metadata": {
        "id": "SZxvIRTwawPA"
      }
    },
    {
      "cell_type": "code",
      "source": [
        "# Cargar el dataset original\n",
        "(train_imgs, train_labels), (test_imgs, test_labels) = tf.keras.datasets.fashion_mnist.load_data()\n",
        "\n",
        "# Añadir canal para trabajar como imágenes (28,28,1)\n",
        "train_imgs = train_imgs[..., np.newaxis]\n",
        "test_imgs = test_imgs[..., np.newaxis]\n",
        "\n",
        "# Redimensionar imágenes a 64x64\n",
        "train_imgs_resized = tf.image.resize(train_imgs, [64, 64]).numpy() / 255.0\n",
        "test_imgs_resized = tf.image.resize(test_imgs, [64, 64]).numpy() / 255.0\n",
        "\n",
        "# Codificación one-hot para las etiquetas\n",
        "train_labels_oh = to_categorical(train_labels, num_classes=10)\n",
        "test_labels_oh = to_categorical(test_labels, num_classes=10)"
      ],
      "metadata": {
        "id": "dOZf9mR8auqp"
      },
      "execution_count": 17,
      "outputs": []
    },
    {
      "cell_type": "markdown",
      "source": [
        "#### 2. Definir la arquitectura de la red convolucional\n",
        "Construimos una red convolucional simple, con dos capas `Conv2D`, seguidas por `MaxPooling2D`, una capa densa oculta con `Dropout` y una capa de salida con `softmax`."
      ],
      "metadata": {
        "id": "Nvi_ctywbKk4"
      }
    },
    {
      "cell_type": "code",
      "source": [
        "cnn64_model = models.Sequential([\n",
        "    layers.Conv2D(32, (3, 3), activation='relu', input_shape=(64, 64, 1)),\n",
        "    layers.MaxPooling2D(pool_size=(2, 2)),\n",
        "\n",
        "    layers.Conv2D(64, (3, 3), activation='relu'),\n",
        "    layers.MaxPooling2D(pool_size=(2, 2)),\n",
        "\n",
        "    layers.Conv2D(128, (3, 3), activation='relu'),\n",
        "    layers.MaxPooling2D(pool_size=(2, 2)),\n",
        "\n",
        "    layers.Flatten(),\n",
        "    layers.Dense(128, activation='relu'),\n",
        "    layers.Dropout(0.4),\n",
        "    layers.Dense(10, activation='softmax')\n",
        "])"
      ],
      "metadata": {
        "id": "MWpRhPrCbV9K"
      },
      "execution_count": 18,
      "outputs": []
    },
    {
      "cell_type": "markdown",
      "source": [
        "#### 3. Compilación del modelo\n",
        "Usamos el optimizador Adam y la función de pérdida categorical_crossentropy, adecuada para problemas de clasificación multiclase con etiquetas codificadas en one-hot."
      ],
      "metadata": {
        "id": "9D1EEYnUbaPY"
      }
    },
    {
      "cell_type": "code",
      "source": [
        "cnn64_model.compile(\n",
        "    optimizer='adam',\n",
        "    loss='categorical_crossentropy',\n",
        "    metrics=['accuracy']\n",
        ")"
      ],
      "metadata": {
        "id": "oQk9mIJpbYVY"
      },
      "execution_count": 19,
      "outputs": []
    },
    {
      "cell_type": "markdown",
      "source": [
        "#### 4. Entrenamiento de la red neuronal\n",
        "Entrenamos por 12 épocas usando una fracción del dataset como validación. Esto nos permite detectar overfitting sin usar el conjunto de prueba."
      ],
      "metadata": {
        "id": "m1wms4g6gIXT"
      }
    },
    {
      "cell_type": "code",
      "source": [
        "history_64 = cnn64_model.fit(\n",
        "    train_imgs_resized,\n",
        "    train_labels_oh,\n",
        "    epochs=12,\n",
        "    batch_size=128,\n",
        "    validation_split=0.1\n",
        ")"
      ],
      "metadata": {
        "colab": {
          "base_uri": "https://localhost:8080/"
        },
        "id": "bgN-UdRcgNH7",
        "outputId": "c6c098b4-6dfe-4883-9582-181a41eab746"
      },
      "execution_count": 20,
      "outputs": [
        {
          "output_type": "stream",
          "name": "stdout",
          "text": [
            "Epoch 1/12\n",
            "\u001b[1m422/422\u001b[0m \u001b[32m━━━━━━━━━━━━━━━━━━━━\u001b[0m\u001b[37m\u001b[0m \u001b[1m207s\u001b[0m 487ms/step - accuracy: 0.7128 - loss: 0.8036 - val_accuracy: 0.8748 - val_loss: 0.3313\n",
            "Epoch 2/12\n",
            "\u001b[1m422/422\u001b[0m \u001b[32m━━━━━━━━━━━━━━━━━━━━\u001b[0m\u001b[37m\u001b[0m \u001b[1m196s\u001b[0m 465ms/step - accuracy: 0.8696 - loss: 0.3670 - val_accuracy: 0.8965 - val_loss: 0.2802\n",
            "Epoch 3/12\n",
            "\u001b[1m422/422\u001b[0m \u001b[32m━━━━━━━━━━━━━━━━━━━━\u001b[0m\u001b[37m\u001b[0m \u001b[1m206s\u001b[0m 474ms/step - accuracy: 0.8914 - loss: 0.2970 - val_accuracy: 0.9058 - val_loss: 0.2573\n",
            "Epoch 4/12\n",
            "\u001b[1m422/422\u001b[0m \u001b[32m━━━━━━━━━━━━━━━━━━━━\u001b[0m\u001b[37m\u001b[0m \u001b[1m198s\u001b[0m 464ms/step - accuracy: 0.9031 - loss: 0.2678 - val_accuracy: 0.9073 - val_loss: 0.2501\n",
            "Epoch 5/12\n",
            "\u001b[1m422/422\u001b[0m \u001b[32m━━━━━━━━━━━━━━━━━━━━\u001b[0m\u001b[37m\u001b[0m \u001b[1m206s\u001b[0m 474ms/step - accuracy: 0.9144 - loss: 0.2348 - val_accuracy: 0.9178 - val_loss: 0.2254\n",
            "Epoch 6/12\n",
            "\u001b[1m422/422\u001b[0m \u001b[32m━━━━━━━━━━━━━━━━━━━━\u001b[0m\u001b[37m\u001b[0m \u001b[1m198s\u001b[0m 466ms/step - accuracy: 0.9223 - loss: 0.2136 - val_accuracy: 0.9193 - val_loss: 0.2274\n",
            "Epoch 7/12\n",
            "\u001b[1m422/422\u001b[0m \u001b[32m━━━━━━━━━━━━━━━━━━━━\u001b[0m\u001b[37m\u001b[0m \u001b[1m205s\u001b[0m 473ms/step - accuracy: 0.9283 - loss: 0.1937 - val_accuracy: 0.9192 - val_loss: 0.2254\n",
            "Epoch 8/12\n",
            "\u001b[1m422/422\u001b[0m \u001b[32m━━━━━━━━━━━━━━━━━━━━\u001b[0m\u001b[37m\u001b[0m \u001b[1m201s\u001b[0m 470ms/step - accuracy: 0.9352 - loss: 0.1725 - val_accuracy: 0.9248 - val_loss: 0.2199\n",
            "Epoch 9/12\n",
            "\u001b[1m422/422\u001b[0m \u001b[32m━━━━━━━━━━━━━━━━━━━━\u001b[0m\u001b[37m\u001b[0m \u001b[1m198s\u001b[0m 461ms/step - accuracy: 0.9395 - loss: 0.1613 - val_accuracy: 0.9278 - val_loss: 0.2195\n",
            "Epoch 10/12\n",
            "\u001b[1m422/422\u001b[0m \u001b[32m━━━━━━━━━━━━━━━━━━━━\u001b[0m\u001b[37m\u001b[0m \u001b[1m202s\u001b[0m 462ms/step - accuracy: 0.9449 - loss: 0.1426 - val_accuracy: 0.9243 - val_loss: 0.2245\n",
            "Epoch 11/12\n",
            "\u001b[1m422/422\u001b[0m \u001b[32m━━━━━━━━━━━━━━━━━━━━\u001b[0m\u001b[37m\u001b[0m \u001b[1m202s\u001b[0m 462ms/step - accuracy: 0.9503 - loss: 0.1330 - val_accuracy: 0.9267 - val_loss: 0.2193\n",
            "Epoch 12/12\n",
            "\u001b[1m422/422\u001b[0m \u001b[32m━━━━━━━━━━━━━━━━━━━━\u001b[0m\u001b[37m\u001b[0m \u001b[1m202s\u001b[0m 461ms/step - accuracy: 0.9562 - loss: 0.1172 - val_accuracy: 0.9258 - val_loss: 0.2374\n"
          ]
        }
      ]
    },
    {
      "cell_type": "markdown",
      "source": [
        "#### 5. Evaluar desempeño en el conjunto de prueba\n",
        "Ahora evaluamos el modelo entrenado con los datos de prueba y mostramos la precisión final."
      ],
      "metadata": {
        "id": "_DUSlschbkdA"
      }
    },
    {
      "cell_type": "code",
      "source": [
        "test_loss, test_acc = cnn64_model.evaluate(test_imgs_resized, test_labels_oh, verbose=0)\n",
        "print(f\"Precisión final en test (64x64): {test_acc * 100:.2f}%\")"
      ],
      "metadata": {
        "colab": {
          "base_uri": "https://localhost:8080/"
        },
        "id": "9rEbtpE-bto5",
        "outputId": "b84867f8-d7e1-4f6f-edce-a7d74a1be10b"
      },
      "execution_count": 21,
      "outputs": [
        {
          "output_type": "stream",
          "name": "stdout",
          "text": [
            "Precisión final en test (64x64): 91.75%\n"
          ]
        }
      ]
    },
    {
      "cell_type": "markdown",
      "source": [
        "#### 5. Diccionario de clases\n",
        "El dataset contiene 10 clases diferentes de prendas. Usaremos esta lista para interpretar las predicciones."
      ],
      "metadata": {
        "id": "TslibZshbwpQ"
      }
    },
    {
      "cell_type": "code",
      "source": [
        "class_labels = [\n",
        "    \"Camiseta\", \"Pantalón\", \"Suéter\", \"Vestido\", \"Abrigo\",\n",
        "    \"Sandalia\", \"Camisa\", \"Zapatilla\", \"Bolso\", \"Bota\"\n",
        "]"
      ],
      "metadata": {
        "id": "EOWHggYxb4Go"
      },
      "execution_count": 27,
      "outputs": []
    },
    {
      "cell_type": "markdown",
      "source": [
        "#### 6. Prueba del modelo con imágenes nuevas cargadas desde archivo\n",
        "Ahora probamos el modelo con imágenes externas que subamos al entorno de ejecución. Estas imágenes deben estar en escala de grises y tamaño 28x28 píxeles."
      ],
      "metadata": {
        "id": "7q06kZ13b4sI"
      }
    },
    {
      "cell_type": "code",
      "source": [
        "from tensorflow.keras.preprocessing import image\n",
        "from google.colab import files\n",
        "\n",
        "uploaded = files.upload()"
      ],
      "metadata": {
        "colab": {
          "base_uri": "https://localhost:8080/",
          "height": 110
        },
        "id": "ZihYkLezb9Ww",
        "outputId": "af2a8b71-f4a0-4929-a993-6cbc283184d2"
      },
      "execution_count": 34,
      "outputs": [
        {
          "output_type": "display_data",
          "data": {
            "text/plain": [
              "<IPython.core.display.HTML object>"
            ],
            "text/html": [
              "\n",
              "     <input type=\"file\" id=\"files-b5c96a6c-849c-4400-a3db-f3b38d234119\" name=\"files[]\" multiple disabled\n",
              "        style=\"border:none\" />\n",
              "     <output id=\"result-b5c96a6c-849c-4400-a3db-f3b38d234119\">\n",
              "      Upload widget is only available when the cell has been executed in the\n",
              "      current browser session. Please rerun this cell to enable.\n",
              "      </output>\n",
              "      <script>// Copyright 2017 Google LLC\n",
              "//\n",
              "// Licensed under the Apache License, Version 2.0 (the \"License\");\n",
              "// you may not use this file except in compliance with the License.\n",
              "// You may obtain a copy of the License at\n",
              "//\n",
              "//      http://www.apache.org/licenses/LICENSE-2.0\n",
              "//\n",
              "// Unless required by applicable law or agreed to in writing, software\n",
              "// distributed under the License is distributed on an \"AS IS\" BASIS,\n",
              "// WITHOUT WARRANTIES OR CONDITIONS OF ANY KIND, either express or implied.\n",
              "// See the License for the specific language governing permissions and\n",
              "// limitations under the License.\n",
              "\n",
              "/**\n",
              " * @fileoverview Helpers for google.colab Python module.\n",
              " */\n",
              "(function(scope) {\n",
              "function span(text, styleAttributes = {}) {\n",
              "  const element = document.createElement('span');\n",
              "  element.textContent = text;\n",
              "  for (const key of Object.keys(styleAttributes)) {\n",
              "    element.style[key] = styleAttributes[key];\n",
              "  }\n",
              "  return element;\n",
              "}\n",
              "\n",
              "// Max number of bytes which will be uploaded at a time.\n",
              "const MAX_PAYLOAD_SIZE = 100 * 1024;\n",
              "\n",
              "function _uploadFiles(inputId, outputId) {\n",
              "  const steps = uploadFilesStep(inputId, outputId);\n",
              "  const outputElement = document.getElementById(outputId);\n",
              "  // Cache steps on the outputElement to make it available for the next call\n",
              "  // to uploadFilesContinue from Python.\n",
              "  outputElement.steps = steps;\n",
              "\n",
              "  return _uploadFilesContinue(outputId);\n",
              "}\n",
              "\n",
              "// This is roughly an async generator (not supported in the browser yet),\n",
              "// where there are multiple asynchronous steps and the Python side is going\n",
              "// to poll for completion of each step.\n",
              "// This uses a Promise to block the python side on completion of each step,\n",
              "// then passes the result of the previous step as the input to the next step.\n",
              "function _uploadFilesContinue(outputId) {\n",
              "  const outputElement = document.getElementById(outputId);\n",
              "  const steps = outputElement.steps;\n",
              "\n",
              "  const next = steps.next(outputElement.lastPromiseValue);\n",
              "  return Promise.resolve(next.value.promise).then((value) => {\n",
              "    // Cache the last promise value to make it available to the next\n",
              "    // step of the generator.\n",
              "    outputElement.lastPromiseValue = value;\n",
              "    return next.value.response;\n",
              "  });\n",
              "}\n",
              "\n",
              "/**\n",
              " * Generator function which is called between each async step of the upload\n",
              " * process.\n",
              " * @param {string} inputId Element ID of the input file picker element.\n",
              " * @param {string} outputId Element ID of the output display.\n",
              " * @return {!Iterable<!Object>} Iterable of next steps.\n",
              " */\n",
              "function* uploadFilesStep(inputId, outputId) {\n",
              "  const inputElement = document.getElementById(inputId);\n",
              "  inputElement.disabled = false;\n",
              "\n",
              "  const outputElement = document.getElementById(outputId);\n",
              "  outputElement.innerHTML = '';\n",
              "\n",
              "  const pickedPromise = new Promise((resolve) => {\n",
              "    inputElement.addEventListener('change', (e) => {\n",
              "      resolve(e.target.files);\n",
              "    });\n",
              "  });\n",
              "\n",
              "  const cancel = document.createElement('button');\n",
              "  inputElement.parentElement.appendChild(cancel);\n",
              "  cancel.textContent = 'Cancel upload';\n",
              "  const cancelPromise = new Promise((resolve) => {\n",
              "    cancel.onclick = () => {\n",
              "      resolve(null);\n",
              "    };\n",
              "  });\n",
              "\n",
              "  // Wait for the user to pick the files.\n",
              "  const files = yield {\n",
              "    promise: Promise.race([pickedPromise, cancelPromise]),\n",
              "    response: {\n",
              "      action: 'starting',\n",
              "    }\n",
              "  };\n",
              "\n",
              "  cancel.remove();\n",
              "\n",
              "  // Disable the input element since further picks are not allowed.\n",
              "  inputElement.disabled = true;\n",
              "\n",
              "  if (!files) {\n",
              "    return {\n",
              "      response: {\n",
              "        action: 'complete',\n",
              "      }\n",
              "    };\n",
              "  }\n",
              "\n",
              "  for (const file of files) {\n",
              "    const li = document.createElement('li');\n",
              "    li.append(span(file.name, {fontWeight: 'bold'}));\n",
              "    li.append(span(\n",
              "        `(${file.type || 'n/a'}) - ${file.size} bytes, ` +\n",
              "        `last modified: ${\n",
              "            file.lastModifiedDate ? file.lastModifiedDate.toLocaleDateString() :\n",
              "                                    'n/a'} - `));\n",
              "    const percent = span('0% done');\n",
              "    li.appendChild(percent);\n",
              "\n",
              "    outputElement.appendChild(li);\n",
              "\n",
              "    const fileDataPromise = new Promise((resolve) => {\n",
              "      const reader = new FileReader();\n",
              "      reader.onload = (e) => {\n",
              "        resolve(e.target.result);\n",
              "      };\n",
              "      reader.readAsArrayBuffer(file);\n",
              "    });\n",
              "    // Wait for the data to be ready.\n",
              "    let fileData = yield {\n",
              "      promise: fileDataPromise,\n",
              "      response: {\n",
              "        action: 'continue',\n",
              "      }\n",
              "    };\n",
              "\n",
              "    // Use a chunked sending to avoid message size limits. See b/62115660.\n",
              "    let position = 0;\n",
              "    do {\n",
              "      const length = Math.min(fileData.byteLength - position, MAX_PAYLOAD_SIZE);\n",
              "      const chunk = new Uint8Array(fileData, position, length);\n",
              "      position += length;\n",
              "\n",
              "      const base64 = btoa(String.fromCharCode.apply(null, chunk));\n",
              "      yield {\n",
              "        response: {\n",
              "          action: 'append',\n",
              "          file: file.name,\n",
              "          data: base64,\n",
              "        },\n",
              "      };\n",
              "\n",
              "      let percentDone = fileData.byteLength === 0 ?\n",
              "          100 :\n",
              "          Math.round((position / fileData.byteLength) * 100);\n",
              "      percent.textContent = `${percentDone}% done`;\n",
              "\n",
              "    } while (position < fileData.byteLength);\n",
              "  }\n",
              "\n",
              "  // All done.\n",
              "  yield {\n",
              "    response: {\n",
              "      action: 'complete',\n",
              "    }\n",
              "  };\n",
              "}\n",
              "\n",
              "scope.google = scope.google || {};\n",
              "scope.google.colab = scope.google.colab || {};\n",
              "scope.google.colab._files = {\n",
              "  _uploadFiles,\n",
              "  _uploadFilesContinue,\n",
              "};\n",
              "})(self);\n",
              "</script> "
            ]
          },
          "metadata": {}
        },
        {
          "output_type": "stream",
          "name": "stdout",
          "text": [
            "Saving depositphotos_708100924-stock-illustration-ladies-handbag-icon-black-white.jpg to depositphotos_708100924-stock-illustration-ladies-handbag-icon-black-white.jpg\n"
          ]
        }
      ]
    },
    {
      "cell_type": "code",
      "source": [
        "from PIL import Image\n",
        "import matplotlib.pyplot as plt\n",
        "\n",
        "# Mostrar cada imagen subida sin procesar\n",
        "for file_name in uploaded.keys():\n",
        "    try:\n",
        "        img_original = Image.open(file_name)\n",
        "        print(f\"Archivo: {file_name}, tamaño: {img_original.size}, modo: {img_original.mode}\")\n",
        "\n",
        "        plt.figure(figsize=(4, 4))\n",
        "        plt.imshow(img_original)\n",
        "        plt.title(f\"Imagen original\")\n",
        "        plt.axis(\"off\")\n",
        "        plt.show()\n",
        "\n",
        "    except Exception as e:\n",
        "        print(f\"⚠️ No se pudo abrir la imagen {file_name}: {e}\")"
      ],
      "metadata": {
        "colab": {
          "base_uri": "https://localhost:8080/",
          "height": 335
        },
        "id": "fqMqiZa-r17a",
        "outputId": "b6cc9cca-8669-4d35-fda0-128b5cb14d3d"
      },
      "execution_count": 37,
      "outputs": [
        {
          "output_type": "stream",
          "name": "stdout",
          "text": [
            "Archivo: depositphotos_708100924-stock-illustration-ladies-handbag-icon-black-white.jpg, tamaño: (600, 499), modo: RGB\n"
          ]
        },
        {
          "output_type": "display_data",
          "data": {
            "text/plain": [
              "<Figure size 400x400 with 1 Axes>"
            ],
            "image/png": "[encoded data removed]"
          },
          "metadata": {}
        }
      ]
    },
    {
      "cell_type": "markdown",
      "source": [
        "#### 7. Predecir sobre imágenes externas\n",
        "Leemos las imágenes cargadas, las preprocesamos para que tengan el mismo formato del dataset original y usamos el modelo para predecir su clase. Finalmente, se muestran junto a su etiqueta predicha."
      ],
      "metadata": {
        "id": "h88QGoDpcBLA"
      }
    },
    {
      "cell_type": "code",
      "source": [
        "for fname in uploaded.keys():\n",
        "    img = image.load_img(fname, color_mode=\"grayscale\", target_size=(64, 64))\n",
        "    img_arr = image.img_to_array(img) / 255.0\n",
        "    img_arr = np.expand_dims(img_arr, axis=0)  # forma (1, 64, 64, 1)\n",
        "\n",
        "    pred_probs = cnn64_model.predict(img_arr)\n",
        "    pred_class = np.argmax(pred_probs)\n",
        "\n",
        "    plt.imshow(img_arr[0].reshape(64, 64), cmap=\"gray\")\n",
        "    plt.title(f\"Predicción: {class_labels[pred_class]}\")\n",
        "    plt.axis(\"off\")\n",
        "    plt.show()\n"
      ],
      "metadata": {
        "colab": {
          "base_uri": "https://localhost:8080/",
          "height": 446
        },
        "id": "tUg-dnT3cAF4",
        "outputId": "2f96b245-52f8-49c1-df1d-d42a1bc3f051"
      },
      "execution_count": 35,
      "outputs": [
        {
          "output_type": "stream",
          "name": "stdout",
          "text": [
            "\u001b[1m1/1\u001b[0m \u001b[32m━━━━━━━━━━━━━━━━━━━━\u001b[0m\u001b[37m\u001b[0m \u001b[1m0s\u001b[0m 35ms/step\n"
          ]
        },
        {
          "output_type": "display_data",
          "data": {
            "text/plain": [
              "<Figure size 640x480 with 1 Axes>"
            ],
            "image/png": "[encoded data removed]"
          },
          "metadata": {}
        }
      ]
    }
  ]
}