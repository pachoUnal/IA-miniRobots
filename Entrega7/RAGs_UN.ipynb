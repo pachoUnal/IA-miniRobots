{
  "nbformat": 4,
  "nbformat_minor": 0,
  "metadata": {
    "colab": {
      "provenance": []
    },
    "kernelspec": {
      "name": "python3",
      "display_name": "Python 3"
    },
    "language_info": {
      "name": "python"
    }
  },
  "cells": [
    {
      "cell_type": "markdown",
      "source": [
        "# RAG Universidad Nacional\n",
        "\n",
        "* Francisco Josse Roja Rojas (frrojasr@unal.edu.co)\n",
        "* Yeira Liseth Rodríguez Rodríguez (yrodriguezro@unal.edu.co)\n",
        "\n",
        "A continuación se presenta el tercer ejercicio del capítulo 7 de la materia de Inteligencia Artificial y mini-robots\n",
        "\n",
        "#### 1. Instalación de librería\n",
        "Se intala la librería para usar tranformers"
      ],
      "metadata": {
        "id": "5pZkKRybIQER"
      }
    },
    {
      "cell_type": "code",
      "execution_count": null,
      "metadata": {
        "id": "xinXAqESIMc9"
      },
      "outputs": [],
      "source": [
        "!pip install faiss-cpu transformers sentence-transformers"
      ]
    },
    {
      "cell_type": "markdown",
      "source": [
        "#### 2. Cargar corpus de documentos\n",
        "Debido a restricciones por parte de las páginas oficiales de la Universidad Nacional de Colombia, se crea el siguiente corpus de documentos para ilustrar el RAG"
      ],
      "metadata": {
        "id": "T-PRkHgmnHwg"
      }
    },
    {
      "cell_type": "code",
      "source": [
        "documentos = [\n",
        "  \"La presión por aumentar la estatura del caballo criollo colombiano ha llevado al uso excesivo de hormonas y vitaminas, poniendo en riesgo su bienestar animal.\",  # :contentReference[oaicite:1]{index=1}\n",
        "  \"En el Atlántico, científicos detectaron 49 variantes genéticas en personas de 45 a 70 años que podrían anticipar riesgos de Alzheimer, Parkinson u otras demencias.\",  # :contentReference[oaicite:2]{index=2}\n",
        "  \"Un estudio concluye que la represión policial hacia consumidores de bazuco es ineficaz y vulnera derechos humanos, recomendando un enfoque de salud pública.\",  # :contentReference[oaicite:3]{index=3}\n",
        "  \"Investigadores en Antioquia desarrollaron un sistema con inteligencia artificial y satélites para predecir zonas críticas de deforestación hasta con dos años de antelación.\",  # :contentReference[oaicite:4]{index=4}\n",
        "  \"Se implementaron 29 aulas STEAM en regiones apartadas, incluyendo San Basilio de Palenque, para fortalecer la educación en ciencia y tecnología.\",  # :contentReference[oaicite:5]{index=5}\n",
        "  \"La alimentación de gallinas criollas con semillas de lino aumentó significativamente los niveles de omega‑3 en los huevos, mejorando su valor nutricional.\",  # :contentReference[oaicite:6]{index=6}\n",
        "]\n"
      ],
      "metadata": {
        "id": "3Jw-IrGXXbUY"
      },
      "execution_count": null,
      "outputs": []
    },
    {
      "cell_type": "markdown",
      "source": [
        "#### 3. FAISS\n",
        "Vectorizar y construir el índice FAISS"
      ],
      "metadata": {
        "id": "owf3c5FhnQYV"
      }
    },
    {
      "cell_type": "code",
      "source": [
        "from sentence_transformers import SentenceTransformer\n",
        "import faiss\n",
        "import numpy as np\n",
        "\n",
        "# Cargar modelo de embeddings local\n",
        "modelo_embeddings = SentenceTransformer('all-MiniLM-L6-v2')\n",
        "\n",
        "# Vectorizar el corpus\n",
        "vectores = modelo_embeddings.encode(documentos, show_progress_bar=True)\n",
        "\n",
        "# Crear el indice FAISS\n",
        "index = faiss.IndexFlatL2(vectores.shape[1])\n",
        "index.add(np.array(vectores))\n"
      ],
      "metadata": {
        "id": "tsN1MdvWXeG1"
      },
      "execution_count": null,
      "outputs": []
    },
    {
      "cell_type": "markdown",
      "source": [
        "#### 4. Contextos\n",
        "Función para recuperar múltiples contextos"
      ],
      "metadata": {
        "id": "7ZjS4-K2nXpO"
      }
    },
    {
      "cell_type": "code",
      "source": [
        "def buscar_contexto(pregunta, top_k=3):\n",
        "    pregunta_vec = modelo_embeddings.encode([pregunta])\n",
        "    _, indices = index.search(np.array(pregunta_vec), top_k)\n",
        "    fragmentos = [documentos[i] for i in indices[0]]\n",
        "    return \" \".join(fragmentos)\n"
      ],
      "metadata": {
        "id": "f6jZ3mmbXkQ5"
      },
      "execution_count": null,
      "outputs": []
    },
    {
      "cell_type": "markdown",
      "source": [
        "#### 5. Generador\n",
        "Cargar modelo generativo FLAN-T5 optimizado para QA"
      ],
      "metadata": {
        "id": "0AjKCPsTwTwR"
      }
    },
    {
      "cell_type": "code",
      "source": [
        "from transformers import pipeline\n",
        "\n",
        "# Modelo multilingue, sigue instrucciones y responde preguntas\n",
        "generador = pipeline(\"text2text-generation\", model=\"google/flan-t5-base\")\n"
      ],
      "metadata": {
        "id": "AiP_nMA6pfUu"
      },
      "execution_count": null,
      "outputs": []
    },
    {
      "cell_type": "markdown",
      "source": [
        "#### 6. Respuesta\n",
        "Función de respuesta mejorada con prompt claro"
      ],
      "metadata": {
        "id": "uvGETrvhnd6F"
      }
    },
    {
      "cell_type": "code",
      "source": [
        "def responder(pregunta):\n",
        "    contexto = buscar_contexto(pregunta, top_k=3)\n",
        "    prompt = f\"Contesta la siguiente pregunta usando solo la información del contexto.\\n\\nContexto: {contexto}\\nPregunta: {pregunta}\"\n",
        "    resultado = generador(prompt, max_new_tokens=100)[0]['generated_text']\n",
        "    return resultado.strip()"
      ],
      "metadata": {
        "id": "S2LqOEtqXq6-"
      },
      "execution_count": null,
      "outputs": []
    },
    {
      "cell_type": "markdown",
      "source": [
        "#### 7. Probar el sistema\n",
        "Se prueban 3 preguntas en donde el sistema logra identificar el contexto pero por la falta de información no logra dar una buena respuesta, evidenciando una oportunidad de mejora en la coherencia y redacción de la respuesta."
      ],
      "metadata": {
        "id": "K0mi9DuVwcdv"
      }
    },
    {
      "cell_type": "code",
      "source": [
        "print(responder(\"¿Cuántas aulas STEM hay?\"))"
      ],
      "metadata": {
        "id": "2TeM2zpEX0hR"
      },
      "execution_count": null,
      "outputs": []
    },
    {
      "cell_type": "code",
      "source": [
        "print(responder(\"¿Puede alimentarse a la gallina con semillas de lino?\"))"
      ],
      "metadata": {
        "id": "zR4TjGXwrCx7"
      },
      "execution_count": null,
      "outputs": []
    },
    {
      "cell_type": "code",
      "source": [
        "print(responder(\"¿Cómo la represión policial afecta a los consumidores?\"))"
      ],
      "metadata": {
        "id": "-b2q-TEOvG9C"
      },
      "execution_count": null,
      "outputs": []
    },
    {
      "cell_type": "markdown",
      "source": [],
      "metadata": {
        "id": "j1peK1YnJ7ak"
      }
    }
  ]
}