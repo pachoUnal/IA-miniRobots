{
  "nbformat": 4,
  "nbformat_minor": 0,
  "metadata": {
    "colab": {
      "provenance": []
    },
    "kernelspec": {
      "name": "python3",
      "display_name": "Python 3"
    },
    "language_info": {
      "name": "python"
    }
  },
  "cells": [
    {
      "cell_type": "markdown",
      "source": [
        "# Simulación de Robot con Autómata Celular para Evasión de Obstáculos\n",
        "\n",
        "Este proyecto implementa una simulación de un robot móvil simple, modelado mediante un autómata celular no uniforme, cuyo objetivo es desplazarse en un entorno bidimensional evitando obstáculos.\n",
        "\n",
        "## Descripción del sistema\n",
        "\n",
        "El entorno se representa como una cuadrícula (`grid`) de tamaño fijo, donde cada celda puede estar en uno de dos estados:\n",
        "\n",
        "- `0`: Celda libre (espacio disponible para moverse)\n",
        "- `1`: Obstáculo fijo (no se puede atravesar)\n",
        "\n",
        "El robot es un agente autónomo que ocupa una única celda, tiene una **dirección** (Norte, Este, Sur u Oeste) y decide su próximo movimiento según el contenido de la celda que tiene al frente.\n",
        "\n",
        "## Reglas de comportamiento del robot\n",
        "\n",
        "- Si la celda al frente está **libre**: avanza una celda en esa dirección.\n",
        "- Si la celda al frente está **ocupada por un obstáculo o fuera de los límites**: gira aleatoriamente a la izquierda o a la derecha.\n",
        "- El robot **nunca sobrescribe obstáculos**, ya que se representa de forma separada al entorno.\n",
        "\n",
        "Este comportamiento simula un sistema **reactivo basado en reglas locales**, típico en aplicaciones de robótica móvil simple o en agentes de simulación.\n",
        "\n",
        "## Visualización\n",
        "\n",
        "Cada paso de la simulación se muestra usando `matplotlib`, donde:\n",
        "\n",
        "- Las celdas **blancas** representan espacios libres.\n",
        "- Las celdas **negras** son obstáculos.\n",
        "- El **robot** se muestra en **azul**, con su posición actual en el entorno.\n",
        "\n",
        "El título de la figura indica el número de paso actual.\n",
        "\n",
        "## Objetivo\n",
        "\n",
        "El objetivo de esta simulación es mostrar cómo un autómata celular no uniforme puede modelar un comportamiento emergente de evasión de obstáculos, usando reglas simples y decisiones locales. Esta es una técnica aplicable tanto en inteligencia artificial distribuida como en control de minirobots.\n",
        "\n",
        "---\n"
      ],
      "metadata": {
        "id": "tGlnaJ8Qllct"
      }
    },
    {
      "cell_type": "code",
      "execution_count": 6,
      "metadata": {
        "colab": {
          "base_uri": "https://localhost:8080/",
          "height": 428
        },
        "id": "xSPnEfxajByl",
        "outputId": "0aff319b-4068-41e6-b296-f82d7fcc06d0"
      },
      "outputs": [
        {
          "output_type": "display_data",
          "data": {
            "text/plain": [
              "<Figure size 640x480 with 1 Axes>"
            ],
            "image/png": "[encoded data removed]"
          },
          "metadata": {}
        }
      ],
      "source": [
        "#FRANCISCO JOSSE ROJAS ROJAS\n",
        "#YEIRA LISETH RODRIGUEZ RODRIGUEZ\n",
        "import numpy as np\n",
        "import matplotlib.pyplot as plt\n",
        "import matplotlib.colors as mcolors\n",
        "from IPython.display import clear_output\n",
        "import time\n",
        "\n",
        "# --- Definiciones ---\n",
        "FREE = 0\n",
        "OBSTACLE = 1\n",
        "\n",
        "# Direcciones del robot\n",
        "UP = 0\n",
        "RIGHT = 1\n",
        "DOWN = 2\n",
        "LEFT = 3\n",
        "\n",
        "# Colores: blanco (libre), negro (obstáculo), azul (robot)\n",
        "cmap = mcolors.ListedColormap(['white', 'black', 'blue'])\n",
        "\n",
        "# --- Entorno inicial ---\n",
        "grid_size = 20\n",
        "env = np.zeros((grid_size, grid_size), dtype=int)\n",
        "\n",
        "np.random.seed(42)\n",
        "for _ in range(50):\n",
        "    x, y = np.random.randint(0, grid_size, 2)\n",
        "    env[x, y] = OBSTACLE\n",
        "\n",
        "# --- Estado del robot ---\n",
        "robot_pos = [grid_size // 2, grid_size // 2]\n",
        "robot_dir = UP\n",
        "\n",
        "# --- Funciones de dirección ---\n",
        "direction_map = {\n",
        "    UP: (-1, 0),\n",
        "    RIGHT: (0, 1),\n",
        "    DOWN: (1, 0),\n",
        "    LEFT: (0, -1)\n",
        "}\n",
        "\n",
        "def turn_right(d): return (d + 1) % 4\n",
        "def turn_left(d): return (d - 1) % 4\n",
        "\n",
        "# --- Visualización ---\n",
        "def show(grid, robot_pos, step):\n",
        "    display_grid = grid.copy()\n",
        "    rx, ry = robot_pos\n",
        "    display_grid[rx, ry] = 2  # Coloreamos el robot sin alterar el grid real\n",
        "\n",
        "    plt.imshow(display_grid, cmap=cmap)\n",
        "    plt.title(f\"Paso {step}\")\n",
        "    plt.axis('off')\n",
        "    plt.show()\n",
        "\n",
        "# --- Simulación ---\n",
        "steps = 100 #SE PUEDE AGREGAR MÁS PASOS SI SE QUIERE\n",
        "\n",
        "for t in range(steps):\n",
        "    clear_output(wait=True)\n",
        "\n",
        "    dx, dy = direction_map[robot_dir]\n",
        "    nx, ny = robot_pos[0] + dx, robot_pos[1] + dy\n",
        "\n",
        "    # Verifica si la celda al frente es libre y válida\n",
        "    if 0 <= nx < grid_size and 0 <= ny < grid_size and env[nx, ny] == FREE:\n",
        "        robot_pos = [nx, ny]\n",
        "    else:\n",
        "        # Gira aleatoriamente a derecha o izquierda\n",
        "        robot_dir = turn_right(robot_dir) if np.random.rand() > 0.5 else turn_left(robot_dir)\n",
        "\n",
        "    # Mostrar entorno + robot\n",
        "    show(env, robot_pos, t + 1)\n",
        "    time.sleep(0.2)"
      ]
    },
    {
      "cell_type": "markdown",
      "source": [],
      "metadata": {
        "id": "F4NFjshgli51"
      }
    }
  ]
}