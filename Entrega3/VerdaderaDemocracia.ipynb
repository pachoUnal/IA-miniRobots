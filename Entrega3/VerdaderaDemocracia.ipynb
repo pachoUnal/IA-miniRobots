import numpy as np
import random
import matplotlib.pyplot as plt

# Parámetros
num_partidos = 5
num_entidades = 50
tam_poblacion = 100
generaciones = 100
prob_cruce = 0.8
prob_mutacion = 0.1

# 1. Distribución aleatoria no uniforme de curules
curules = np.random.multinomial(50, np.random.dirichlet(np.ones(num_partidos)*np.random.uniform(0.5, 2)))
print("Curules por partido:", curules)

# 2. Pesos aleatorios de entidades (1 a 100)
pesos_entidades = np.random.randint(1, 101, num_entidades)
total_poder = np.sum(pesos_entidades)

# 3. Representación de un individuo: array de 50 asignaciones (valores 0 a 4)
def crear_individuo():
    return np.random.randint(0, num_partidos, num_entidades)

# 4. Función de aptitud: gobernabilidad proporcional
def evaluar(individuo):
    poder_por_partido = np.zeros(num_partidos)
    for i, partido in enumerate(individuo):
        poder_por_partido[partido] += pesos_entidades[i]
    proporcion_ideal = curules / 50
    proporcion_real = poder_por_partido / total_poder
    return -np.sum((proporcion_ideal - proporcion_real)**2)  # Minimizar error cuadrático

# 5. Selección por torneo
def torneo(poblacion, k=3):
    seleccionados = random.sample(poblacion, k)
    return max(seleccionados, key=evaluar)

# 6. Cruce por un punto
def cruzar(p1, p2):
    if np.random.rand() < prob_cruce:
        punto = np.random.randint(1, num_entidades)
        hijo1 = np.concatenate([p1[:punto], p2[punto:]])
        hijo2 = np.concatenate([p2[:punto], p1[punto:]])
        return hijo1, hijo2
    return p1.copy(), p2.copy()

# 7. Mutación: cambiar asignación de partido
def mutar(individuo):
    for i in range(num_entidades):
        if np.random.rand() < prob_mutacion:
            individuo[i] = np.random.randint(0, num_partidos)
    return individuo

# 8. Algoritmo genético principal
poblacion = [crear_individuo() for _ in range(tam_poblacion)]
fitness_maximos = []

for gen in range(generaciones):
    nueva_poblacion = []
    while len(nueva_poblacion) < tam_poblacion:
        p1 = torneo(poblacion)
        p2 = torneo(poblacion)
        h1, h2 = cruzar(p1, p2)
        nueva_poblacion.extend([mutar(h1), mutar(h2)])
    poblacion = nueva_poblacion
    fitness_max = max(evaluar(ind) for ind in poblacion)
    fitness_maximos.append(fitness_max)

# Resultado final
mejor = max(poblacion, key=evaluar)
poder_final = np.zeros(num_partidos)
for i, partido in enumerate(mejor):
    poder_final[partido] += pesos_entidades[i]

print("\nDistribución final de poder:")
for i in range(num_partidos):
    print(f"Partido {i+1}: {poder_final[i]:.2f} puntos de poder (curules: {curules[i]})")

print("\nFitness final:", evaluar(mejor))

# 9. Gráfica de evolución del fitness
plt.plot(fitness_maximos, label='Fitness máximo')
plt.title('Evolución del fitness (menor error cuadrático)')
plt.xlabel('Generación')
plt.ylabel('Fitness')
plt.legend()
plt.grid(True)
plt.show()
