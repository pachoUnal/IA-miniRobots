import numpy as np

def decode(binary_string):
    decimal = int(binary_string, 2)
    x = decimal / (2**16 - 1)
    return x

def fitness(x):
    return x * np.sin(10 * np.pi * x) + 1

def create_individual():
    return ''.join(np.random.choice(['0', '1']) for _ in range(16))

def crossover(p1, p2):
    point = np.random.randint(1, 16)
    return p1[:point] + p2[point:], p2[:point] + p1[point:]

def mutate(individual, p=1/16):
    return ''.join(bit if np.random.rand() > p else ('1' if bit == '0' else '0') for bit in individual)

def select(population, fitnesses):
    i, j = np.random.randint(len(population)), np.random.randint(len(population))
    return population[i] if fitnesses[i] > fitnesses[j] else population[j]

# AG parameters
N = 100
generations = 100

# Initial population
population = [create_individual() for _ in range(N)]

for gen in range(generations):
    fitnesses = [fitness(decode(ind)) for ind in population]
    new_population = []

    for _ in range(N // 2):
        p1 = select(population, fitnesses)
        p2 = select(population, fitnesses)
        if np.random.rand() < 0.7:
            c1, c2 = crossover(p1, p2)
        else:
            c1, c2 = p1, p2
        new_population.append(mutate(c1))
        new_population.append(mutate(c2))

    population = new_population

# Result
best_ind = max(population, key=lambda ind: fitness(decode(ind)))
best_x = decode(best_ind)
best_y = fitness(best_x)

print(f"Best x: {best_x:.5f}, f(x): {best_y:.5f}")
