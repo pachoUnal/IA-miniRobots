{
  "nbformat": 4,
  "nbformat_minor": 0,
  "metadata": {
    "colab": {
      "provenance": []
    },
    "kernelspec": {
      "name": "python3",
      "display_name": "Python 3"
    },
    "language_info": {
      "name": "python"
    }
  },
  "cells": [
    {
      "cell_type": "markdown",
      "source": [
        "# Maximizar función 𝑓(𝑥) = 𝑥 𝑠𝑒𝑛(10 π x) + 1, con 𝑥 ∈ [0,1]\n",
        "\n",
        "*   Francisco\n",
        "*   Yeira Liseth Rodríguez Rodríguez\n",
        "\n",
        "A continuación se presenta el primer ejercicio del capítulo 3 de la materia de Inteligencia Artificial y mini-robots\n",
        "\n"
      ],
      "metadata": {
        "id": "Kw5i0_SIykIi"
      }
    },
    {
      "cell_type": "code",
      "source": [
        "import numpy as np\n"
      ],
      "metadata": {
        "id": "Q90gOM_iz6LT"
      },
      "execution_count": 1,
      "outputs": []
    },
    {
      "cell_type": "markdown",
      "source": [
        "#### 1. Codificación del individuo\n",
        "\n",
        "Cada individua es un string binario de 16 bits, lo que permite representar números en el rango [0,1].\n"
      ],
      "metadata": {
        "id": "mATmu8yr0AZL"
      }
    },
    {
      "cell_type": "code",
      "source": [
        "def create_individual():\n",
        "    return ''.join(np.random.choice(['0', '1']) for _ in range(16))"
      ],
      "metadata": {
        "id": "1GytMQVM0R68"
      },
      "execution_count": 2,
      "outputs": []
    },
    {
      "cell_type": "markdown",
      "source": [
        "Usamos 16 bits porque 2^16=65536, lo que da buena precisión.\n",
        "\n",
        "#### 2. Decodificación binaria\n",
        "Convierte el string binario a decimal y luego lo normaliza al intervalo [0,1]"
      ],
      "metadata": {
        "id": "cGfLAySp0YKr"
      }
    },
    {
      "cell_type": "code",
      "source": [
        "def decode(binary_string):\n",
        "    decimal = int(binary_string, 2)\n",
        "    x = decimal / (2**16 - 1)\n",
        "    return x"
      ],
      "metadata": {
        "id": "KQ4dw5EA0ou7"
      },
      "execution_count": 3,
      "outputs": []
    },
    {
      "cell_type": "markdown",
      "source": [
        "#### 3. Función objetivo o fitness\n",
        "Calcula el valor de la función objetivo. El +1 asegura que el valor siempre sea positivo, útil para comparaciones."
      ],
      "metadata": {
        "id": "FNij2aFi006T"
      }
    },
    {
      "cell_type": "code",
      "source": [
        "def fitness(x):\n",
        "    return x * np.sin(10 * np.pi * x) + 1"
      ],
      "metadata": {
        "id": "GVVuaOlF1cHc"
      },
      "execution_count": 4,
      "outputs": []
    },
    {
      "cell_type": "markdown",
      "source": [
        "#### 4. Cruce\n",
        "Se selecciona un punto de corte aleatorio. Luego se intercambia los genes (bits) entre dos padres para crear dos hijos."
      ],
      "metadata": {
        "id": "LPAG73aP1fY8"
      }
    },
    {
      "cell_type": "code",
      "source": [
        "def crossover(p1, p2):\n",
        "    point = np.random.randint(1, 16)\n",
        "    return p1[:point] + p2[point:], p2[:point] + p1[point:]"
      ],
      "metadata": {
        "id": "EDirRVf71sgk"
      },
      "execution_count": 5,
      "outputs": []
    },
    {
      "cell_type": "markdown",
      "source": [
        "No se permite punto 0 ni 16 para evitar copiar completo un padre.\n",
        "#### 5. Mutación\n",
        "Cada bit tiene probabilidad p=1/16 de cambiar. Con esta función se ayuda a mantener la diversidad genética y explorar nuevas soluciones\n"
      ],
      "metadata": {
        "id": "_iuu3H8m1w6d"
      }
    },
    {
      "cell_type": "code",
      "source": [
        "def mutate(individual, p=1/16):\n",
        "    return ''.join(bit if np.random.rand() > p else ('1' if bit == '0' else '0') for bit in individual)"
      ],
      "metadata": {
        "id": "CRPXL8bo2cwN"
      },
      "execution_count": 6,
      "outputs": []
    },
    {
      "cell_type": "markdown",
      "source": [
        "#### 6. Selección por torneo\n",
        "Se usa un torneo binario que selecciona dos individuos al azar y escoge el mejor.\n"
      ],
      "metadata": {
        "id": "jrNdSp682foU"
      }
    },
    {
      "cell_type": "code",
      "source": [
        "def select(population, fitnesses):\n",
        "    i, j = np.random.randint(len(population)), np.random.randint(len(population))\n",
        "    return population[i] if fitnesses[i] > fitnesses[j] else population[j]"
      ],
      "metadata": {
        "id": "0-sLP5k_2s-M"
      },
      "execution_count": 7,
      "outputs": []
    },
    {
      "cell_type": "markdown",
      "source": [
        "#### 7. Parámetros y bucle del AG\n",
        "Se crea la población inicial aleatoriamente con un tamaño de población de 100 y 100 generaciónes para evolución\n"
      ],
      "metadata": {
        "id": "G2zdAH3u205M"
      }
    },
    {
      "cell_type": "code",
      "source": [
        "N = 100\n",
        "generations = 100\n",
        "\n",
        "population = [create_individual() for _ in range(N)]\n"
      ],
      "metadata": {
        "id": "HQ-VUDBJ3ITF"
      },
      "execution_count": 8,
      "outputs": []
    },
    {
      "cell_type": "markdown",
      "source": [
        "#### 8. Evolución de la población\n",
        "Se evalúa el fitness de todos y se crean N/2 pares de padres para generar 2 hijos cada uno.  La probabilidad de aplicar cruce es de 70%, el resto se copian sin cruzar y se aplica mutación a cada hijo.\n",
        "\n",
        "Adicionalmente, se reemplaza completamente la población anterior (no hay elitismo)."
      ],
      "metadata": {
        "id": "KQrTIhbl3KlF"
      }
    },
    {
      "cell_type": "code",
      "source": [
        "for gen in range(generations):\n",
        "    fitnesses = [fitness(decode(ind)) for ind in population]\n",
        "    new_population = []\n",
        "\n",
        "    for _ in range(N // 2):\n",
        "        p1 = select(population, fitnesses)\n",
        "        p2 = select(population, fitnesses)\n",
        "        if np.random.rand() < 0.7:\n",
        "            c1, c2 = crossover(p1, p2)\n",
        "        else:\n",
        "            c1, c2 = p1, p2\n",
        "        new_population.append(mutate(c1))\n",
        "        new_population.append(mutate(c2))\n",
        "\n",
        "    population = new_population\n",
        ""
      ],
      "metadata": {
        "id": "Tv8h3fT53vZ1"
      },
      "execution_count": 9,
      "outputs": []
    },
    {
      "cell_type": "markdown",
      "source": [
        "#### 9. Resultados\n",
        "Al final, se busca el mejor individuo de toda la población, se imprime su valor decodificado y el valor máximo alcanzado por la función."
      ],
      "metadata": {
        "id": "4ivsSRp43xv9"
      }
    },
    {
      "cell_type": "code",
      "source": [
        "best_ind = max(population, key=lambda ind: fitness(decode(ind)))\n",
        "best_x = decode(best_ind)\n",
        "best_y = fitness(best_x)\n",
        "\n",
        "print(f\"Best x: {best_x:.5f}, f(x): {best_y:.5f}\")"
      ],
      "metadata": {
        "colab": {
          "base_uri": "https://localhost:8080/"
        },
        "id": "VjIiX3ID4I1l",
        "outputId": "bcf42298-ca47-429b-9a24-3a38806f6c26"
      },
      "execution_count": 10,
      "outputs": [
        {
          "output_type": "stream",
          "name": "stdout",
          "text": [
            "Best x: 0.85121, f(x): 1.85060\n"
          ]
        }
      ]
    }
  ]
}