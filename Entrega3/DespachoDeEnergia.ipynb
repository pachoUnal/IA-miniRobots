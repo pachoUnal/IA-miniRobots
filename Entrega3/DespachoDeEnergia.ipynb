{
  "nbformat": 4,
  "nbformat_minor": 0,
  "metadata": {
    "colab": {
      "provenance": []
    },
    "kernelspec": {
      "name": "python3",
      "display_name": "Python 3"
    },
    "language_info": {
      "name": "python"
    }
  },
  "cells": [
    {
      "cell_type": "markdown",
      "source": [
        "# Despacho de energía\n",
        "* Francisco\n",
        "* Yeira Liseth Rodríguez Rodríguez\n",
        "A continuación se presenta el tercer ejercicio del capítulo 3 de la materia de Inteligencia Artificial y mini-robots"
      ],
      "metadata": {
        "id": "np7M6dcbE7X9"
      }
    },
    {
      "cell_type": "code",
      "source": [
        "import numpy as np\n",
        "import random\n",
        "import matplotlib.pyplot as plt"
      ],
      "metadata": {
        "id": "OMG2rFhxFYoN"
      },
      "execution_count": null,
      "outputs": []
    },
    {
      "cell_type": "markdown",
      "source": [
        "#### 1. Parámetros del problema\n",
        "Cuatro plantas con capacidad máxima en GW y cuatro ciudades con demanda en GW. También se establece la matriz de costos de transporte por GW de cada planta a cada ciudad, en donde cada fila representa una planta, cada columna una ciudad."
      ],
      "metadata": {
        "id": "XefLzSvLFa4d"
      }
    },
    {
      "cell_type": "code",
      "source": [
        "# Datos\n",
        "capacidad = np.array([3, 6, 5, 4])  # por planta\n",
        "demanda = np.array([4, 3, 5, 3])    # por ciudad\n",
        "\n",
        "transporte = np.array([\n",
        "    [1, 4, 3, 6],\n",
        "    [4, 1, 4, 5],\n",
        "    [3, 4, 1, 4],\n",
        "    [6, 5, 4, 1]\n",
        "])"
      ],
      "metadata": {
        "id": "x0kWP_M_Fyvt"
      },
      "execution_count": null,
      "outputs": []
    },
    {
      "cell_type": "markdown",
      "source": [
        "También se guara el costo de generar 1 GW por planta (por ahora se simplifica como si fuera lineal). Se usa reshape(-1,1) para que se pueda sumar por elemento a la matriz de transporte."
      ],
      "metadata": {
        "id": "E-InNjqaGMf9"
      }
    },
    {
      "cell_type": "code",
      "source": [
        "generacion = np.array([680, 720, 660, 750])  # por planta\n",
        "total_generacion = generacion.reshape(-1, 1)  # para sumarlo con transporte"
      ],
      "metadata": {
        "id": "yUvGzZKpGWr1"
      },
      "execution_count": null,
      "outputs": []
    },
    {
      "cell_type": "markdown",
      "source": [
        "Posteriormente se definen los parámetros del AG, es decir, el tamaño de la población (número de soluciones en cada generación), el número de generaciones que se simulan y la probabilidad de mutación (aunque no se usa directamente en este código, la mutación siempre se aplica al crear nuevos hijos)."
      ],
      "metadata": {
        "id": "g8Rv_VhgGjh1"
      }
    },
    {
      "cell_type": "code",
      "source": [
        "# AG parámetros\n",
        "tam_poblacion = 100\n",
        "generaciones = 200\n",
        "prob_mutacion = 0.1"
      ],
      "metadata": {
        "id": "WoxWjvEzGmrF"
      },
      "execution_count": null,
      "outputs": []
    },
    {
      "cell_type": "markdown",
      "source": [
        "#### 2. Crear individuos\n",
        "La función `crear_individuo()` genera soluciones válidas iniciales representadas como matrices de 4x4, donde cada elemento indica cuánta energía una planta envía a una ciudad."
      ],
      "metadata": {
        "id": "1V3C-0k_G6td"
      }
    },
    {
      "cell_type": "code",
      "source": [
        "# Crear individuo válido\n",
        "def crear_individuo():\n",
        "    asignacion = np.zeros((4, 4), dtype=int)\n",
        "    cap_rest = capacidad.copy()\n",
        "    dem_rest = demanda.copy()\n",
        "\n",
        "    for j in range(4):  # por ciudad\n",
        "        while dem_rest[j] > 0:\n",
        "            posibles = [i for i in range(4) if cap_rest[i] > 0]\n",
        "            i = random.choice(posibles)\n",
        "            envio = min(cap_rest[i], dem_rest[j], 1)\n",
        "            asignacion[i][j] += envio\n",
        "            cap_rest[i] -= envio\n",
        "            dem_rest[j] -= envio\n",
        "    return asignacion"
      ],
      "metadata": {
        "id": "yAWt-AubHmPO"
      },
      "execution_count": null,
      "outputs": []
    },
    {
      "cell_type": "markdown",
      "source": [
        "#### 3. Función de evaluación\n",
        "La función `evaluar(ind)` calcula el costo total de una solución sumando los costos de transporte y generación para cada unidad de energía enviada.\n",
        "Se hace una suma elemento a elemento entre la matriz de asignación y la suma de las matrices de costos de transporte y generación, lo que da como resultado el costo total de la solución."
      ],
      "metadata": {
        "id": "FP4jF7pKHpvW"
      }
    },
    {
      "cell_type": "code",
      "source": [
        "# Evaluación de costo total\n",
        "def evaluar(ind):\n",
        "    return np.sum(ind * (transporte + total_generacion))"
      ],
      "metadata": {
        "id": "bxlKfo_xIF2X"
      },
      "execution_count": null,
      "outputs": []
    },
    {
      "cell_type": "markdown",
      "source": [
        "#### 4. Función de mutación\n",
        "La función `mutar(ind) `realiza pequeñas modificaciones a una solución existente para generar una nueva variante."
      ],
      "metadata": {
        "id": "H4W-15_RIIVW"
      }
    },
    {
      "cell_type": "code",
      "source": [
        "# Mutación: cambiar 1 unidad aleatoriamente entre celdas\n",
        "def mutar(ind):\n",
        "    nuevo = ind.copy()\n",
        "    i1, j1 = random.randint(0, 3), random.randint(0, 3)\n",
        "    if nuevo[i1][j1] > 0:\n",
        "        i2 = random.choice([x for x in range(4) if x != i1])\n",
        "        if capacidad[i2] - nuevo[i2].sum() > 0:\n",
        "            nuevo[i1][j1] -= 1\n",
        "            nuevo[i2][j1] += 1\n",
        "    return reparar(nuevo)\n"
      ],
      "metadata": {
        "id": "iiL1gyg7IPNm"
      },
      "execution_count": null,
      "outputs": []
    },
    {
      "cell_type": "markdown",
      "source": [
        "#### 5. Reparación de solución\n",
        "`reparar(asig)` ajusta una solución mutada o construida para que cumpla con las restricciones del problema. Primero verifica que ninguna planta exceda su capacidad reduciendo el exceso de energía enviada; después, garantiza que la demanda de cada ciudad esté completamente cubierta añadiendo energía desde plantas que aún tienen capacidad disponible."
      ],
      "metadata": {
        "id": "6g1eDD88IQ9u"
      }
    },
    {
      "cell_type": "code",
      "source": [
        "# Reparar restricciones\n",
        "def reparar(asig):\n",
        "    asig = asig.copy()\n",
        "    for i in range(4):\n",
        "        exceso = asig[i].sum() - capacidad[i]\n",
        "        while exceso > 0:\n",
        "            j = np.argmax(asig[i])\n",
        "            quitar = min(exceso, asig[i][j])\n",
        "            asig[i][j] -= quitar\n",
        "            exceso -= quitar\n",
        "\n",
        "    for j in range(4):\n",
        "        faltante = demanda[j] - asig[:, j].sum()\n",
        "        while faltante > 0:\n",
        "            i = np.argmin(asig[:, j])\n",
        "            posible = min(faltante, capacidad[i] - asig[i].sum())\n",
        "            if posible > 0:\n",
        "                asig[i][j] += posible\n",
        "                faltante -= posible\n",
        "            else:\n",
        "                break\n",
        "    return asig"
      ],
      "metadata": {
        "id": "yX2monGoIX9-"
      },
      "execution_count": null,
      "outputs": []
    },
    {
      "cell_type": "markdown",
      "source": [
        "#### 6. Algoritmo genético principal\n",
        "En el bucle principal se simulan las generaciones. Se inicializa la población con soluciones válidas y, en cada generación, se evalúa el costo de cada individuo. Se selecciona el mejor (élite) y se asegura su paso a la siguiente generación. Luego, se generan nuevos individuos mutando a miembros aleatorios de la población."
      ],
      "metadata": {
        "id": "1guhCbUdIfA2"
      }
    },
    {
      "cell_type": "code",
      "source": [
        "# AG principal\n",
        "poblacion = [crear_individuo() for _ in range(tam_poblacion)]\n",
        "mejores = []\n",
        "\n",
        "for gen in range(generaciones):\n",
        "    fitness = [evaluar(ind) for ind in poblacion]\n",
        "    elite = poblacion[np.argmin(fitness)]\n",
        "    mejores.append(min(fitness))\n",
        "    nueva = [elite.copy()]  # elitismo\n",
        "\n",
        "    while len(nueva) < tam_poblacion:\n",
        "        padre = random.choice(poblacion)\n",
        "        hijo = mutar(padre)\n",
        "        nueva.append(hijo)\n",
        "\n",
        "    poblacion = nueva\n"
      ],
      "metadata": {
        "id": "aZv_VE2AIaD2"
      },
      "execution_count": null,
      "outputs": []
    },
    {
      "cell_type": "markdown",
      "source": [
        "#### 7. Resultado final y visualización\n",
        "Al final del proceso evolutivo, se identifica e imprime la mejor solución encontrada (el despacho óptimo de energía de planta a ciudad) junto con su costo total mínimo. Además, se grafica la evolución del mejor costo en el tiempo, mostrando cómo el algoritmo converge hacia soluciones más eficientes a medida que avanza la optimización."
      ],
      "metadata": {
        "id": "IQGVHD-QIh6O"
      }
    },
    {
      "cell_type": "code",
      "execution_count": null,
      "metadata": {
        "colab": {
          "base_uri": "https://localhost:8080/",
          "height": 617
        },
        "id": "MhUG1MqZq6YZ",
        "outputId": "823df189-9a1d-47a4-8b77-6ea712cd8f82"
      },
      "outputs": [
        {
          "output_type": "stream",
          "name": "stdout",
          "text": [
            "Despacho óptimo (GW de planta a ciudad):\n",
            "\n",
            "[[3 0 0 0]\n",
            " [1 3 2 0]\n",
            " [0 0 3 2]\n",
            " [0 0 0 1]]\n",
            "\n",
            "Costo total mínimo: 10440\n"
          ]
        },
        {
          "output_type": "display_data",
          "data": {
            "text/plain": [
              "<Figure size 640x480 with 1 Axes>"
            ],
            "image/png": "[encoded data removed]"
          },
          "metadata": {}
        }
      ],
      "source": [
        "# Resultado final\n",
        "mejor = min(poblacion, key=evaluar)\n",
        "print(\"Despacho óptimo (GW de planta a ciudad):\\n\")\n",
        "print(mejor)\n",
        "print(\"\\nCosto total mínimo:\", evaluar(mejor))\n",
        "\n",
        "# Gráfica\n",
        "plt.plot(mejores)\n",
        "plt.title(\"Evolución del costo total mínimo\")\n",
        "plt.xlabel(\"Generación\")\n",
        "plt.ylabel(\"Costo total\")\n",
        "plt.grid(True)\n",
        "plt.show()\n"
      ]
    },
    {
      "cell_type": "markdown",
      "source": [
        "Esto significa que, entre todas las asignaciones posibles que respetan las restricciones, el algoritmo encontró una solución con costo total mínimo de 10,440 unidades monetarias, combinando transporte y generación.\n",
        "\n",
        "La gráfica en escalón también indica que se preservó el mejor individuo en cada generación (por elitismo)."
      ],
      "metadata": {
        "id": "ELpDUhhAJwIn"
      }
    }
  ]
}